{
 "cells": [
  {
   "cell_type": "code",
   "execution_count": 1,
   "metadata": {},
   "outputs": [],
   "source": [
    "import numpy as np"
   ]
  },
  {
   "cell_type": "markdown",
   "metadata": {},
   "source": [
    "__1.__ Найти собственные векторы и собственные значения для линейного оператора, заданного матрицей\n",
    "\n",
    "$$A=\\begin{pmatrix}\n",
    "-1 & -6\\\\ \n",
    "2 & 6\n",
    "\\end{pmatrix}.$$\n",
    "\n",
    "<b>Решение</b>\n",
    "\n",
    "$det(A-\\lambda I)=\\begin{vmatrix}\n",
    "a_{11}-\\lambda & a_{12}\\\\ \n",
    "a_{21} & a_{22}-\\lambda\n",
    "\\end{vmatrix} = \\lambda^{2}-(a_{11}+a_{22})\\lambda+(a_{11}a_{22}-a_{12}a_{21}).$\n",
    "\n",
    "<hr />\n",
    "\n",
    "$det(A - \\lambda I)$ = $0$\n",
    "$\\lambda^{2} - (-1 + 6)\\lambda + (-6 + 12)$ = $\\lambda^{2} - 5\\lambda + 6$ = $0$\n",
    "\n",
    "$D = b^{2} - 4ac$ = $(-5)^{2} - 4 * 1 * 6$ = $25 - 24$ = $1$\n",
    "\n",
    "$\\lambda_{1} = 2$\n",
    "\n",
    "$\\lambda_{2} = 3$\n",
    "\n",
    "$\\begin{pmatrix}\n",
    "-1 & -6\\\\ \n",
    "2 & 6\n",
    "\\end{pmatrix}$\n",
    "$\\begin{pmatrix}\n",
    "x_{1}\\\\ \n",
    "x_{2}\n",
    "\\end{pmatrix}=\n",
    "\\lambda\n",
    "\\begin{pmatrix}\n",
    "x_{1}\\\\ \n",
    "x_{2}\n",
    "\\end{pmatrix}.\n",
    "$\n",
    "\n",
    "$\\lambda = 2$\n",
    "\n",
    "$\\begin{cases}\n",
    "-x_{1}-6x_{2} = 2x_{1}, \\\\\n",
    "2x_{1}+6x_{2} = 2x_{2}.\n",
    "\\end{cases}$\n",
    "$\\Rightarrow\n",
    "\\begin{cases}\n",
    "3x_{1} = -6x_{2}, \\\\\n",
    "2x_{2} = -x_{1} .\n",
    "\\end{cases}$\n",
    "$\\Rightarrow\n",
    "\\begin{cases}\n",
    "x_{1} = -2x_{2}, \\\\\n",
    "2x_{2} = -x_{1} .\n",
    "\\end{cases}$\n",
    "$\\Rightarrow\n",
    "\\begin{cases}\n",
    "x_{1} = -2, \\\\\n",
    "x_{2} = 1 .\n",
    "\\end{cases}$\n",
    "\n",
    "Собственный вектор v1 = (-2, 1)\n",
    "\n",
    "$\\lambda = 3$\n",
    "\n",
    "$\\begin{cases}\n",
    "-x_{1}-6x_{2} = 3x_{1}, \\\\\n",
    "2x_{1}+6x_{2} = 3x_{2}.\n",
    "\\end{cases}$\n",
    "$\\Rightarrow\n",
    "\\begin{cases}\n",
    "4x_{1} = -6x_{2}, \\\\\n",
    "2x_{1} = -3x_{2}.\n",
    "\\end{cases}$\n",
    "$\\Rightarrow\n",
    "\\begin{cases}\n",
    "x_{1} = -\\frac{3}{2}x_{2}, \\\\\n",
    "x_{1} = -\\frac{3}{2}x_{2}.\n",
    "\\end{cases}$\n",
    "$\\Rightarrow\n",
    "\\begin{cases}\n",
    "x_{1} = \\frac{3}{2}, \\\\\n",
    "x_{2} = -1.\n",
    "\\end{cases}$\n",
    "\n",
    "Собственный вектор v2 = ($\\frac{3}{2}$, -1)"
   ]
  },
  {
   "cell_type": "code",
   "execution_count": 2,
   "metadata": {},
   "outputs": [
    {
     "name": "stdout",
     "output_type": "stream",
     "text": [
      "A:\n",
      "[[-1 -6]\n",
      " [ 2  6]]\n",
      "Собственные значения:\n",
      "[2. 3.]\n",
      "Собственные векторы:\n",
      "[[-0.89442719  0.83205029]\n",
      " [ 0.4472136  -0.5547002 ]]\n",
      "\n",
      "lambda = 3.0, x1 = -1.5 * x2\n",
      "lambda = 2.0, x1 = -2.0 * x2\n"
     ]
    }
   ],
   "source": [
    "A = np.array([[-1, -6], [2, 6]])\n",
    "w, v = np.linalg.eig(A)\n",
    "\n",
    "print(f'A:\\n{A}')\n",
    "print(f'Собственные значения:\\n{w}')\n",
    "print(f'Собственные векторы:\\n{v}')\n",
    "print(f'\\nlambda = {w[1]}, x1 = {round(v[0,1] / v[1,1], 2)} * x2')\n",
    "print(f'lambda = {w[0]}, x1 = {round(v[0,0] / v[1,0], 2)} * x2')"
   ]
  },
  {
   "cell_type": "markdown",
   "metadata": {},
   "source": [
    "__2.__ Дан оператор поворота на 180 градусов, задаваемый матрицей \n",
    "\n",
    "$$A=\\begin{pmatrix}\n",
    "-1 & 0\\\\ \n",
    "0 & -1\n",
    "\\end{pmatrix}.$$\n",
    "\n",
    "Показать, что __любой__ вектор является для него собственным."
   ]
  },
  {
   "cell_type": "markdown",
   "metadata": {},
   "source": [
    "<b>Решение</b>\n",
    "\n",
    "Собственный вектор оператора A — это такой ненулевой вектор, действие оператора на который сводится к умножению его на число: Ax=λx.\n",
    "\n",
    "Пусть собственный вектор $x = \\begin{pmatrix}\n",
    "x_{1}\\\\ \n",
    "x_{2}\n",
    "\\end{pmatrix}$, тогда $Ax=\\begin{pmatrix}\n",
    "-1 & 0\\\\ \n",
    "0 & -1\n",
    "\\end{pmatrix} \\begin{pmatrix}\n",
    "x_{1}\\\\ \n",
    "x_{2}\n",
    "\\end{pmatrix} = \\lambda\\begin{pmatrix}\n",
    "x_{1}\\\\ \n",
    "x_{2}\n",
    "\\end{pmatrix}$\n",
    "\n",
    "\n",
    "$ x_1 = - \\lambda x_1; x_2 = - \\lambda x_2 $"
   ]
  },
  {
   "cell_type": "code",
   "execution_count": 3,
   "metadata": {
    "scrolled": true
   },
   "outputs": [
    {
     "name": "stdout",
     "output_type": "stream",
     "text": [
      "A:\n",
      "[[-1  0]\n",
      " [ 0 -1]]\n",
      "\n"
     ]
    }
   ],
   "source": [
    "A = np.array([[-1, 0], [0, -1]])\n",
    "\n",
    "print(f'A:\\n{A}\\n')"
   ]
  },
  {
   "cell_type": "code",
   "execution_count": 4,
   "metadata": {
    "scrolled": true
   },
   "outputs": [
    {
     "name": "stdout",
     "output_type": "stream",
     "text": [
      "A:\n",
      "[[-1  0]\n",
      " [ 0 -1]]\n",
      "\n",
      "Собственные значения:\n",
      "[-1. -1.]\n",
      "\n",
      "Собственные векторы:\n",
      "[1. 0.], [0. 1.]\n",
      "\n"
     ]
    }
   ],
   "source": [
    "w, v = np.linalg.eig(A)\n",
    "\n",
    "print(f'A:\\n{A}\\n')\n",
    "print(f'Собственные значения:\\n{w}\\n')\n",
    "print(f'Собственные векторы:\\n{v[:, 0]}, {v[:, 1]}\\n')"
   ]
  },
  {
   "cell_type": "markdown",
   "metadata": {},
   "source": [
    "__3.__ Пусть линейный оператор задан матрицей\n",
    "\n",
    "$$A=\\begin{pmatrix}\n",
    "1 & 1\\\\ \n",
    "-1 & 3\n",
    "\\end{pmatrix}.$$\n",
    "\n",
    "Установить, является ли вектор $x=(1,1)$ собственным вектором этого линейного оператора."
   ]
  },
  {
   "cell_type": "markdown",
   "metadata": {},
   "source": [
    "<b>Решение</b>\n",
    "\n",
    "$\\begin{pmatrix}\n",
    "1 & 1\\\\ \n",
    "-1 & 3\n",
    "\\end{pmatrix}\n",
    "\\begin{pmatrix}\n",
    "1\\\\ \n",
    "1 \n",
    "\\end{pmatrix}=\n",
    "\\lambda\n",
    "\\begin{pmatrix}\n",
    "1\\\\ \n",
    "1\n",
    "\\end{pmatrix}.\n",
    "$\n",
    "\n",
    "$\\begin{cases}\n",
    "1 + 1 = 1\\cdot\\lambda \\\\ \n",
    "-1 + 3 = 1\\cdot \\lambda\n",
    "\\end{cases}\n",
    "\\Rightarrow\n",
    "\\begin{cases}\n",
    "\\lambda=2\\\\ \n",
    "\\lambda=2\n",
    "\\end{cases}.$\n",
    "\n",
    "Ответ: вектор $𝑥=(1,1)$ является собственным вектором линейного оператора A, а его собственное значения составляет $\\lambda=2$."
   ]
  },
  {
   "cell_type": "code",
   "execution_count": 5,
   "metadata": {
    "scrolled": false
   },
   "outputs": [
    {
     "name": "stdout",
     "output_type": "stream",
     "text": [
      "Матрица A:\n",
      "[[ 1  1]\n",
      " [-1  3]]\n",
      "Собственные значения:\n",
      "[2.00000002 1.99999998]\n"
     ]
    }
   ],
   "source": [
    "A = np.array([[1, 1], [-1, 3]])\n",
    "w, v = np.linalg.eig(A)\n",
    "\n",
    "print(f'Матрица A:\\n{A}')\n",
    "print(f'Собственные значения:\\n{w}')"
   ]
  },
  {
   "cell_type": "markdown",
   "metadata": {},
   "source": [
    "\n",
    "\n",
    "__4.__ Пусть линейный оператор задан матрицей\n",
    "\n",
    "$$A=\\begin{pmatrix}\n",
    "0 & 3 & 0\\\\ \n",
    "3 & 0 & 0\\\\\n",
    "0 & 0 & 3\n",
    "\\end{pmatrix}.$$\n",
    "\n",
    "Установить, является ли вектор $x=(3, -3, -4)$ собственным вектором этого линейного оператора."
   ]
  },
  {
   "cell_type": "markdown",
   "metadata": {},
   "source": [
    "<b>Решение</b>\n",
    "\n",
    "\n",
    "$\\begin{pmatrix}\n",
    "0 & 3 & 0\\\\ \n",
    "3 & 0 & 0\\\\\n",
    "0 & 0 & 3\n",
    "\\end{pmatrix}\n",
    "\\begin{pmatrix}\n",
    "3\\\\\n",
    "-3\\\\\n",
    "-4\n",
    "\\end{pmatrix}=\n",
    "\\lambda\n",
    "\\begin{pmatrix}\n",
    "3\\\\\n",
    "-3\\\\\n",
    "-4\n",
    "\\end{pmatrix}\n",
    "$\n",
    "\n",
    "$\n",
    "\\begin{cases}\n",
    "3\\lambda=-9\\\\ \n",
    "-3\\lambda=9\\\\\n",
    "-4\\lambda=-12\n",
    "\\end{cases}\n",
    "$ $\\Rightarrow\n",
    "\\begin{cases}\n",
    "\\lambda=-3\\\\ \n",
    "\\lambda=-3\\\\\n",
    "\\lambda=3\n",
    "\\end{cases}\n",
    "$\n",
    "\n",
    "Ответ: вектор $x=(3, -3, -4)$ не является собственным вектором линейного оператора A."
   ]
  },
  {
   "cell_type": "code",
   "execution_count": 6,
   "metadata": {},
   "outputs": [
    {
     "name": "stdout",
     "output_type": "stream",
     "text": [
      "Матрица A:\n",
      "[[0 3 0]\n",
      " [3 0 0]\n",
      " [0 0 3]]\n",
      "Собственные значения:\n",
      "[ 3. -3.  3.]\n"
     ]
    }
   ],
   "source": [
    "A = np.array([[0, 3, 0], [3, 0, 0], [0, 0, 3]])\n",
    "w, v = np.linalg.eig(A)\n",
    "\n",
    "print(f'Матрица A:\\n{A}')\n",
    "print(f'Собственные значения:\\n{w}')"
   ]
  },
  {
   "cell_type": "code",
   "execution_count": null,
   "metadata": {},
   "outputs": [],
   "source": []
  }
 ],
 "metadata": {
  "kernelspec": {
   "display_name": "Python 3",
   "language": "python",
   "name": "python3"
  },
  "language_info": {
   "codemirror_mode": {
    "name": "ipython",
    "version": 3
   },
   "file_extension": ".py",
   "mimetype": "text/x-python",
   "name": "python",
   "nbconvert_exporter": "python",
   "pygments_lexer": "ipython3",
   "version": "3.8.5"
  }
 },
 "nbformat": 4,
 "nbformat_minor": 4
}
