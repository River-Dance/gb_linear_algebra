{
 "cells": [
  {
   "cell_type": "markdown",
   "metadata": {},
   "source": [
    "<h1>Урок 1 Линейные пространства</h1>"
   ]
  },
  {
   "cell_type": "markdown",
   "metadata": {},
   "source": [
    "<h2>Часть 1</h2>"
   ]
  },
  {
   "cell_type": "markdown",
   "metadata": {},
   "source": [
    "<b>1.</b> Исследовать на линейную зависимость:\n",
    "$$f_{1}(x)=e^{x}, f_{2}(x)=1, f_{3}(x)=x+1, f_{4}(x)=x-e^{x}.$$"
   ]
  },
  {
   "cell_type": "markdown",
   "metadata": {},
   "source": [
    "Возможно выразить $f_{4}(x)$ как линейную комбинацию остальных функций:\n",
    "\n",
    "$f_{4}(x)=f_{3}(x)-f_{2}(x)-f_{1}(x).$ => система векторов линейно зависима"
   ]
  },
  {
   "cell_type": "markdown",
   "metadata": {},
   "source": [
    "<b>2.</b> Исследовать на линейную зависимость:$$f_{1}(x)=2, f_{2}(x)=x, f_{3}(x)=x^{2}, f_{4}(x)=(x+1)^{2}.$$\n",
    "\n",
    "Аналогично предыдущей задаче:\n",
    "\n",
    "$f_{4}(x)=x^2 + 2x + 1 = f_{3}(x) + 2f_{2}(x) + 0.5f_{1}(x).$ \n",
    "\n",
    "Т.к. одна функция выражается как линейная комбинация остальных => система векторов линейно зависима"
   ]
  },
  {
   "cell_type": "markdown",
   "metadata": {},
   "source": [
    "<b>3.</b> Найти координаты вектора $x = (2, 3, 5)\\in \\mathbb{R}^{3}$ в базисе $b_{1}=(0, 0, 10)$, $b_{2}=(2, 0, 0)$, $b_{3}=(0, 1, 0)$.\n",
    "\n",
    "$x = 0.5b_{1} + b_{2} + 3b_{3}$\n",
    "\n",
    "$x = (0.5, 1, 3)$"
   ]
  },
  {
   "cell_type": "markdown",
   "metadata": {},
   "source": [
    "<b>4.</b> Найти координаты вектора $3x^{2}-2x+2\\in\\mathbb{R}^{3}[x]$:\n",
    "```\n",
    "а) в базисе 1 , x , x2\n",
    "б) в базисе x2 , x−1 , 1\n",
    "```\n",
    "a) $x = (2, -2, 3)$\n",
    "\n",
    "б) $3x^{2} - 2x + 2 = 3x^2 - 2(x - 1) + 0*1$\n",
    "\n",
    "$x = (3, -2, 0)$"
   ]
  },
  {
   "cell_type": "markdown",
   "metadata": {},
   "source": [
    "<b>5.</b> Установить, является ли линейным подпространством:\n",
    "\n",
    "а) совокупность всех векторов трехмерного пространства, у которых по крайней мере одна из первых двух координат равна нулю;\n",
    "\n",
    "Нет, потому что возможен, к примеру, вот такой вариант - $(0,a,b) + (a,0,b) = (a,a,2b)$, где полученный вектор не удовлетворяет условию, так как первые 2 элемента не равны 0:\n",
    "\n",
    "б) все векторы, являющиеся линейными комбинациями данных векторов $\\{u_{1}, u_{2}, ..., u_{n}\\}$."
   ]
  },
  {
   "cell_type": "markdown",
   "metadata": {},
   "source": [
    "<h2>Часть 2</h2>"
   ]
  },
  {
   "cell_type": "code",
   "execution_count": 1,
   "metadata": {},
   "outputs": [],
   "source": [
    "import numpy as np\n",
    "from numpy.linalg import norm"
   ]
  },
  {
   "cell_type": "markdown",
   "metadata": {},
   "source": [
    "<b>1.</b> Найти скалярное произведение векторов $x, y \\in \\mathbb{R}$:\n",
    "\n",
    "а) $x=(0,-3, 6),~y=(-4, 7, 9);$\n",
    "\n",
    "б) $x=(7, -4, 0, 1),~y=(-3, 1, 11, 2).$"
   ]
  },
  {
   "cell_type": "code",
   "execution_count": 2,
   "metadata": {},
   "outputs": [
    {
     "name": "stdout",
     "output_type": "stream",
     "text": [
      "а) скалярное произведение x и y: 33\n",
      "б) скалярное произведение x и y: -23\n"
     ]
    }
   ],
   "source": [
    "x = np.array([0,-3,6])\n",
    "y = np.array([-4,7,9])\n",
    "xy = np.dot(x,y)\n",
    "print(f'а) скалярное произведение x и y: {xy}')\n",
    "\n",
    "x = np.array([7,-4,0,1])\n",
    "y = np.array([-3,1,11,2])\n",
    "xy = np.dot(x,y)\n",
    "print(f'б) скалярное произведение x и y: {xy}')"
   ]
  },
  {
   "cell_type": "markdown",
   "metadata": {},
   "source": [
    "<b>2.</b> Найти нормы векторов $(4, 2, 4)$ и $(12, 3, 4)$ и угол между ними."
   ]
  },
  {
   "cell_type": "code",
   "execution_count": 3,
   "metadata": {},
   "outputs": [
    {
     "name": "stdout",
     "output_type": "stream",
     "text": [
      "Норма вектора x: 6.0\n",
      "Норма вектора y: 13.0\n",
      "Угол между векторами: 26.17695217166654 градусов\n"
     ]
    }
   ],
   "source": [
    "x = np.array([4,2,4])\n",
    "y = np.array([12,3,4])\n",
    "\n",
    "norm_x = norm(x)\n",
    "norm_y = norm(y)\n",
    "\n",
    "print(f'Норма вектора x: {norm_x}')\n",
    "print(f'Норма вектора y: {norm_y}')\n",
    "\n",
    "x_y = np.degrees(np.arccos(np.dot(x,y)/(norm_x*norm_y)))\n",
    "print(f'Угол между векторами: {x_y} градусов')"
   ]
  },
  {
   "cell_type": "markdown",
   "metadata": {},
   "source": [
    "<b>3.</b> Будет ли линейное пространство евклидовым, если за скалярное произведение принять:\n",
    "\n",
    "а) произведение длин векторов;\n",
    "\n",
    "б) утроенное обычное скалярное произведение векторов?\n",
    "\n",
    "__Определение__\n",
    "\n",
    "Линейное пространство над полем вещественных чисел называется _евклидовым пространством_, если на нем введено правило, согласно которому каждой упорядоченной паре векторов $x$ и $y$ поставлено в соответствие вещественное число, называемое _скалярным произведением_ и обозначаемое символом $(x, y)$.\n",
    "\n",
    "При этом указанное правило должно подчиняться четырем аксиомам:<br>\n",
    "1) $(x,y)=(y,x);$<br>\n",
    "2) $(\\lambda x, y)=\\lambda(x, y);$<br>\n",
    "3) $(x_{1}+x_{2},y)=(x_{1},y)+(x_{2},y);$<br>\n",
    "4) $(x, x)\\geq0$, причем $(x,x)=0\\Leftrightarrow x=0.$\n",
    "\n",
    "\n",
    "а) - нет, потому что 3 аксиома не выполняется.\n",
    "\n",
    "б) - да, потому что все аксиомы верны.\n",
    "\n",
    "<b>4.</b> Какие из нижеперечисленных векторов образуют ортонормированный базис в линейном пространстве $\\mathbb{R}^{3}$:\n",
    "\n",
    "а) $(1,0,0),(0,0,1);$\n",
    "\n",
    "б) $(1/\\sqrt{2},-1/\\sqrt{2},0),(1/\\sqrt{2},1/\\sqrt{2},0), (0,0,1);$\n",
    "\n",
    "в) $(1/2, -1/2, 0), (0, 1/2, 1/2), (0,0,1);$\n",
    "\n",
    "г) $(1,0,0),(0,1,0),(0,0,1)?$\n",
    "\n",
    "а) - нет, потому что нужен 3-ий вектор для базиса 3-х мерного пространства. Нельзя выразить через 2 вектора любой вектор 3-х мерного пространства.\n",
    "\n",
    "б) - да, потому что:"
   ]
  },
  {
   "cell_type": "code",
   "execution_count": 4,
   "metadata": {},
   "outputs": [
    {
     "data": {
      "text/plain": [
       "(0.9999999999999999, 0.9999999999999999, 1.0)"
      ]
     },
     "execution_count": 4,
     "metadata": {},
     "output_type": "execute_result"
    }
   ],
   "source": [
    "a1 = np.array([1/np.sqrt(2), -1/np.sqrt(2), 0])  \n",
    "a2 = np.array([1/np.sqrt(2), 1/np.sqrt(2), 0])\n",
    "a3 = np.array([0, 0, 1])\n",
    "norm(a1), norm(a2), norm(a3)"
   ]
  },
  {
   "cell_type": "code",
   "execution_count": 5,
   "metadata": {},
   "outputs": [
    {
     "data": {
      "text/plain": [
       "(0.0, 0.0, 0.0)"
      ]
     },
     "execution_count": 5,
     "metadata": {},
     "output_type": "execute_result"
    }
   ],
   "source": [
    "np.dot(a1, a2), np.dot(a1, a3), np.dot(a2, a3)"
   ]
  },
  {
   "cell_type": "markdown",
   "metadata": {},
   "source": [
    "в) нет, потому что:"
   ]
  },
  {
   "cell_type": "code",
   "execution_count": 6,
   "metadata": {},
   "outputs": [
    {
     "data": {
      "text/plain": [
       "(0.7071067811865476, 0.7071067811865476, 1.0)"
      ]
     },
     "execution_count": 6,
     "metadata": {},
     "output_type": "execute_result"
    }
   ],
   "source": [
    "a1 = np.array([1/2, -1/2, 0])  \n",
    "a2 = np.array([0, 1/2, 1/2])\n",
    "a3 = np.array([0, 0, 1])\n",
    "norm(a1), norm(a2), norm(a3)"
   ]
  },
  {
   "cell_type": "code",
   "execution_count": 7,
   "metadata": {},
   "outputs": [
    {
     "data": {
      "text/plain": [
       "(-0.25, 0.0, 0.5)"
      ]
     },
     "execution_count": 7,
     "metadata": {},
     "output_type": "execute_result"
    }
   ],
   "source": [
    "np.dot(a1, a2), np.dot(a1, a3), np.dot(a2, a3)"
   ]
  },
  {
   "cell_type": "markdown",
   "metadata": {},
   "source": [
    "г) да, потому что:"
   ]
  },
  {
   "cell_type": "code",
   "execution_count": 8,
   "metadata": {},
   "outputs": [
    {
     "data": {
      "text/plain": [
       "(1.0, 1.0, 1.0)"
      ]
     },
     "execution_count": 8,
     "metadata": {},
     "output_type": "execute_result"
    }
   ],
   "source": [
    "a1 = np.array([1, 0, 0])  \n",
    "a2 = np.array([0, 1, 0])\n",
    "a3 = np.array([0, 0, 1])\n",
    "norm(a1), norm(a2), norm(a3)"
   ]
  },
  {
   "cell_type": "code",
   "execution_count": 9,
   "metadata": {},
   "outputs": [
    {
     "data": {
      "text/plain": [
       "(0, 0, 0)"
      ]
     },
     "execution_count": 9,
     "metadata": {},
     "output_type": "execute_result"
    }
   ],
   "source": [
    "np.dot(a1, a2), np.dot(a1, a3), np.dot(a2, a3)"
   ]
  },
  {
   "cell_type": "code",
   "execution_count": null,
   "metadata": {},
   "outputs": [],
   "source": []
  }
 ],
 "metadata": {
  "kernelspec": {
   "display_name": "Python 3",
   "language": "python",
   "name": "python3"
  },
  "language_info": {
   "codemirror_mode": {
    "name": "ipython",
    "version": 3
   },
   "file_extension": ".py",
   "mimetype": "text/x-python",
   "name": "python",
   "nbconvert_exporter": "python",
   "pygments_lexer": "ipython3",
   "version": "3.7.6"
  }
 },
 "nbformat": 4,
 "nbformat_minor": 4
}
